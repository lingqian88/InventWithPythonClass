{
 "cells": [
  {
   "cell_type": "markdown",
   "metadata": {},
   "source": [
    "# Chapter 3 - Strings\n",
    "Strings are a variable type that encodes text. Strings can be any combination of letters numbers or symbols between quotes.\n",
    "To execute the code inside of a cell, highlight the cell by clicking on it or using the up/down arrows, then press Ctrl+Enter"
   ]
  },
  {
   "cell_type": "code",
   "execution_count": 1,
   "metadata": {},
   "outputs": [
    {
     "name": "stdout",
     "output_type": "stream",
     "text": [
      "Hello\n",
      "Bob\n",
      "我是美国人\n",
      "1lkrj32rkl1knp1u442314\n",
      "3\n"
     ]
    }
   ],
   "source": [
    "print('Hello')\n",
    "print('Bob')\n",
    "print('我是美国人')\n",
    "print('1lkrj32rkl1knp1u442314')\n",
    "print('3')"
   ]
  },
  {
   "cell_type": "markdown",
   "metadata": {},
   "source": [
    "Strings can be changed in a lot of ways. You can add strings together (_string concatenation_) or multiply them by an integer."
   ]
  },
  {
   "cell_type": "code",
   "execution_count": 2,
   "metadata": {},
   "outputs": [
    {
     "name": "stdout",
     "output_type": "stream",
     "text": [
      "Hi Bob!\n",
      "Nuh-uh Nuh-uh Nuh-uh Nuh-uh Nuh-uh Nuh-uh Nuh-uh Nuh-uh Nuh-uh Nuh-uh \n",
      "applebananaapple\n",
      "appleappleappleapple\n"
     ]
    }
   ],
   "source": [
    "print('Hi' + ' ' + 'Bob!')\n",
    "print('Nuh-uh '*10)\n",
    "a = 'apple'\n",
    "b = \"banana\"\n",
    "print(a + b + a)\n",
    "print(4*a)"
   ]
  },
  {
   "cell_type": "markdown",
   "metadata": {},
   "source": [
    "### Practice 1:\n",
    "1. Print Hello World!\n",
    "2. Write out duck duck goose with 6 ducks and then one goose"
   ]
  },
  {
   "cell_type": "code",
   "execution_count": 3,
   "metadata": {},
   "outputs": [
    {
     "name": "stdout",
     "output_type": "stream",
     "text": [
      "Hello World!\n"
     ]
    }
   ],
   "source": [
    "print('Hello' + ' '+'World!')"
   ]
  },
  {
   "cell_type": "code",
   "execution_count": 6,
   "metadata": {},
   "outputs": [
    {
     "name": "stdout",
     "output_type": "stream",
     "text": [
      "duck duck duck duck duck duck goose \n"
     ]
    }
   ],
   "source": [
    "a= 'duck ' \n",
    "b = 'goose '\n",
    "print(6*a + b)"
   ]
  },
  {
   "cell_type": "code",
   "execution_count": null,
   "metadata": {
    "collapsed": true
   },
   "outputs": [],
   "source": []
  },
  {
   "cell_type": "markdown",
   "metadata": {},
   "source": [
    "## String formatting\n",
    "It can be messy to keep adding string together to make a sentence. Python supports a nice way of writing out strings with the .format() ending. We'll see how to use that below"
   ]
  },
  {
   "cell_type": "code",
   "execution_count": 8,
   "metadata": {},
   "outputs": [
    {
     "name": "stdout",
     "output_type": "stream",
     "text": [
      "My favorite sport is football. I don't like baseball\n"
     ]
    }
   ],
   "source": [
    "sport = 'football'\n",
    "dislike = 'baseball'\n",
    "print(\"My favorite sport is {0}. I don't like {1}\".format(sport, dislike))"
   ]
  },
  {
   "cell_type": "code",
   "execution_count": 11,
   "metadata": {},
   "outputs": [
    {
     "name": "stdout",
     "output_type": "stream",
     "text": [
      "I have 4 apples, 3 bananas\n",
      "Hi Bob. Bob is a silly name. BobBobBob\n"
     ]
    }
   ],
   "source": [
    "num_apples = 4\n",
    "num_bananas = 3\n",
    "name = 'Bob'\n",
    "print('I have {0} apples, {1} bananas'.format(num_apples, num_bananas))\n",
    "print('Hi {0}. {0} is a silly name. {0}{0}{0}'.format(name))"
   ]
  },
  {
   "cell_type": "code",
   "execution_count": null,
   "metadata": {
    "collapsed": true
   },
   "outputs": [],
   "source": []
  },
  {
   "cell_type": "markdown",
   "metadata": {},
   "source": [
    "## Input\n",
    "Games aren't any fun unless the player can interact with the computer. The simplest way to tell the computer something useful is with the `input()` command."
   ]
  },
  {
   "cell_type": "code",
   "execution_count": 9,
   "metadata": {},
   "outputs": [
    {
     "name": "stdout",
     "output_type": "stream",
     "text": [
      "What is your favorite color? yellow\n",
      "My favorite color is yellow\n"
     ]
    }
   ],
   "source": [
    "color = input('What is your favorite color? ')\n",
    "print('My favorite color is ' + color)"
   ]
  },
  {
   "cell_type": "code",
   "execution_count": 10,
   "metadata": {},
   "outputs": [
    {
     "name": "stdout",
     "output_type": "stream",
     "text": [
      "How old are you? 18\n",
      "I'm 18 years old\n"
     ]
    }
   ],
   "source": [
    "age = input('How old are you? ')\n",
    "print(\"I'm {0} years old\".format(age))"
   ]
  },
  {
   "cell_type": "markdown",
   "metadata": {},
   "source": [
    "Is there anything wrong with this input? What would happen if you put in a silly response?\n",
    "\n",
    "### Practice 2\n",
    "1. Write a program that asks you for your name and greets you with your name.\n",
    "2. Write a program that asks for your first name and last name then writes out Last name, First name (e.g. Sketch, Christopher)"
   ]
  },
  {
   "cell_type": "code",
   "execution_count": 15,
   "metadata": {},
   "outputs": [
    {
     "name": "stdout",
     "output_type": "stream",
     "text": [
      "what is your name?ling\n",
      "Hey ling\n"
     ]
    }
   ],
   "source": [
    "name = input('what is your name?')\n",
    "print(\"Hey {0}\".format(name))"
   ]
  },
  {
   "cell_type": "code",
   "execution_count": 21,
   "metadata": {},
   "outputs": [
    {
     "name": "stdout",
     "output_type": "stream",
     "text": [
      "what's your first name Awesome\n",
      "what's your last name Teddy\n",
      "Awesome Teddy\n"
     ]
    }
   ],
   "source": [
    "firstname =input(\"what's your first name \")\n",
    "lastname = input(\"what's your last name \")\n",
    "print(\"{0} {1}\".format(firstname, lastname))"
   ]
  },
  {
   "cell_type": "markdown",
   "metadata": {},
   "source": [
    "## Errors\n",
    "What happens when we make a typo and try to write something that doesn't exist?"
   ]
  },
  {
   "cell_type": "code",
   "execution_count": 22,
   "metadata": {},
   "outputs": [
    {
     "ename": "NameError",
     "evalue": "name 'num_fruits' is not defined",
     "output_type": "error",
     "traceback": [
      "\u001b[0;31m---------------------------------------------------------------------------\u001b[0m",
      "\u001b[0;31mNameError\u001b[0m                                 Traceback (most recent call last)",
      "\u001b[0;32m<ipython-input-22-6d0fbb340724>\u001b[0m in \u001b[0;36m<module>\u001b[0;34m()\u001b[0m\n\u001b[1;32m      1\u001b[0m \u001b[0mnum_fruit\u001b[0m \u001b[0;34m=\u001b[0m \u001b[0;36m4\u001b[0m\u001b[0;34m\u001b[0m\u001b[0m\n\u001b[0;32m----> 2\u001b[0;31m \u001b[0mprint\u001b[0m\u001b[0;34m(\u001b[0m\u001b[0;34m'I have {0} fruits'\u001b[0m\u001b[0;34m.\u001b[0m\u001b[0mformat\u001b[0m\u001b[0;34m(\u001b[0m\u001b[0mnum_fruits\u001b[0m\u001b[0;34m)\u001b[0m\u001b[0;34m)\u001b[0m\u001b[0;34m\u001b[0m\u001b[0m\n\u001b[0m",
      "\u001b[0;31mNameError\u001b[0m: name 'num_fruits' is not defined"
     ]
    }
   ],
   "source": [
    "num_fruit = 4\n",
    "print('I have {0} fruits'.format(num_fruits))"
   ]
  },
  {
   "cell_type": "markdown",
   "metadata": {},
   "source": [
    "## Hello program\n",
    "We want to make a program that will do the following:\n",
    "1. Say \"Hello, World!\"\n",
    "2. Ask \"What is your name?\"\n",
    "3. Respond \"It is good to meet you YOURNAMEHERE.\"\n",
    "\n",
    "After you're done we'll move this program to its own file so we can execute it by itself."
   ]
  },
  {
   "cell_type": "code",
   "execution_count": 23,
   "metadata": {},
   "outputs": [
    {
     "name": "stdout",
     "output_type": "stream",
     "text": [
      "Hello, World!\n",
      "What is your name? YOURNAMEHERe\n",
      "It is good t meet you YOURNAMEHERe\n"
     ]
    }
   ],
   "source": [
    "print('Hello, World!')\n",
    "name = input(\"What is your name? \")\n",
    "print('It is good t meet you {0}'.format(name))"
   ]
  }
 ],
 "metadata": {
  "kernelspec": {
   "display_name": "Python 3",
   "language": "python",
   "name": "python3"
  },
  "language_info": {
   "codemirror_mode": {
    "name": "ipython",
    "version": 3
   },
   "file_extension": ".py",
   "mimetype": "text/x-python",
   "name": "python",
   "nbconvert_exporter": "python",
   "pygments_lexer": "ipython3",
   "version": "3.5.4"
  }
 },
 "nbformat": 4,
 "nbformat_minor": 2
}
