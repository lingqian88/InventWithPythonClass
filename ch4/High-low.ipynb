{
 "cells": [
  {
   "cell_type": "markdown",
   "metadata": {},
   "source": [
    "# High-Low\n",
    "High-low is a guessing game. \n",
    "\n",
    "## Rules\n",
    "* Guess a number between 1 and 50\n",
    "* If you guess the wrong the computer will tell you if it's too high or too low\n",
    "* If you guess right the game ends and you win\n",
    "* If you can't guess right in 6 tries you lose"
   ]
  },
  {
   "cell_type": "markdown",
   "metadata": {},
   "source": [
    "## Review of last lesson\n",
    "* print()\n",
    "* format()\n",
    "* input()"
   ]
  },
  {
   "cell_type": "code",
   "execution_count": 2,
   "metadata": {},
   "outputs": [
    {
     "name": "stdout",
     "output_type": "stream",
     "text": [
      "I love teddy\n",
      "what is your nameteddy\n",
      "My name is teddy\n"
     ]
    }
   ],
   "source": [
    "x='teddy'\n",
    "print('I love {0}'.format(x))\n",
    "name = input('what is your name')\n",
    "print('My name is {0}'.format(name))"
   ]
  },
  {
   "cell_type": "code",
   "execution_count": null,
   "metadata": {
    "collapsed": true
   },
   "outputs": [],
   "source": []
  },
  {
   "cell_type": "markdown",
   "metadata": {},
   "source": [
    "## Importing\n",
    "\n",
    "<img src=\"assets/antigrav.png\" width=\"300\">\n",
    "\n",
    "A lot of the time, someone else has already invented a smart, fast way to do something that we want to do. They'll put their function in a module (a.k.a. library in other languages). To get those functions we need to write\n",
    "\n",
    "`import name_of_module`\n",
    "\n",
    "We want to generate random numbers so we'll need the random module"
   ]
  },
  {
   "cell_type": "code",
   "execution_count": 3,
   "metadata": {
    "collapsed": true
   },
   "outputs": [],
   "source": [
    "import random\n",
    "random.randint?"
   ]
  },
  {
   "cell_type": "code",
   "execution_count": 4,
   "metadata": {},
   "outputs": [
    {
     "name": "stdout",
     "output_type": "stream",
     "text": [
      "Your first random number is 9\n",
      "Generate a number between 0-1: 0.4857203131155998\n",
      "My favorite person is Alice\n"
     ]
    }
   ],
   "source": [
    "import random\n",
    "print('Your first random number is {0}'.format(random.randint(1,10)))\n",
    "print('Generate a number between 0-1: {0}'.format(random.random()))\n",
    "print('My favorite person is {0}'.format(random.choice(['Alice', 'Bob', 'Calvin'])))"
   ]
  },
  {
   "cell_type": "code",
   "execution_count": 34,
   "metadata": {},
   "outputs": [
    {
     "name": "stdout",
     "output_type": "stream",
     "text": [
      "3.141592653589793\n",
      "0.7071067811865475\n"
     ]
    }
   ],
   "source": [
    "import math\n",
    "print(math.pi)\n",
    "print(math.sin(math.pi/4))"
   ]
  },
  {
   "cell_type": "raw",
   "metadata": {},
   "source": [
    "### Practice\n",
    "1. Generate a random number between 1 and 100.\n",
    "2. You're playing Monopoly and have lost your dice. Make a program to roll the dice.\n",
    "3. You don't know what to eat for dinner today. Make a program to choose between your three favorite foods."
   ]
  },
  {
   "cell_type": "code",
   "execution_count": 5,
   "metadata": {},
   "outputs": [
    {
     "name": "stdout",
     "output_type": "stream",
     "text": [
      "Your random number is 20\n"
     ]
    }
   ],
   "source": [
    "print('Your random number is {0}'.format(random.randint(1,100)))"
   ]
  },
  {
   "cell_type": "code",
   "execution_count": 138,
   "metadata": {},
   "outputs": [
    {
     "name": "stdout",
     "output_type": "stream",
     "text": [
      "Your total is 7\n"
     ]
    }
   ],
   "source": [
    "dice1 = random.randint(1,6)\n",
    "dice2 = random.randint(1,6)\n",
    "total = dice1+dice2\n",
    "print('Your total is {0}'.format(total))\n"
   ]
  },
  {
   "cell_type": "code",
   "execution_count": 42,
   "metadata": {},
   "outputs": [
    {
     "name": "stdout",
     "output_type": "stream",
     "text": [
      "This is your choice of food bww\n"
     ]
    }
   ],
   "source": [
    "print('This is your choice of food {0}'.format(random.choice(['red robin','bww','jeffs kitchen'])))"
   ]
  },
  {
   "cell_type": "markdown",
   "metadata": {},
   "source": [
    "## Input revisited\n",
    "Every variable has a type. Some variables are numbers. Examples are `int` for integer if the number doesn't have a decimal or `float` for numbers that have a decimal. Some variables are text. These are called string or `str` for short. The final type we'll talk about in this lesson is `bool` which is True or False. Other basic variable types we'll eventually see are `list`, `tuple`, `dict`, and `range`."
   ]
  },
  {
   "cell_type": "markdown",
   "metadata": {},
   "source": [
    "### Type\n",
    "To check the type of a variable use `type()` function"
   ]
  },
  {
   "cell_type": "code",
   "execution_count": 23,
   "metadata": {},
   "outputs": [
    {
     "name": "stdout",
     "output_type": "stream",
     "text": [
      "<class 'str'>\n",
      "<class 'int'>\n",
      "<class 'float'>\n",
      "<class 'bool'>\n",
      "<class 'str'>\n",
      "<class 'float'>\n",
      "<class 'int'>\n"
     ]
    }
   ],
   "source": [
    "print(type('hello'))\n",
    "print(type(2))\n",
    "print(type(2.0))\n",
    "print(type(True))\n",
    "print(type('2'))\n",
    "print(type(3.14159))\n",
    "\n",
    "num_dolphins = 2\n",
    "print(type(num_dolphins))"
   ]
  },
  {
   "cell_type": "markdown",
   "metadata": {},
   "source": [
    "### Bool\n",
    "Bool is named after [George Boole](https://en.wikipedia.org/wiki/George_Boole), an English mathmetician.\n",
    "A bool can be one of two things __True__ or __False__. Bools are useful for if statements we'll learn about in just a bit.\n",
    "Operators are:\n"
   ]
  },
  {
   "cell_type": "code",
   "execution_count": 27,
   "metadata": {},
   "outputs": [
    {
     "name": "stdout",
     "output_type": "stream",
     "text": [
      "\n",
      "> Greater than\n",
      "True\n",
      "False\n",
      "False\n",
      "\n",
      ">= Greater than or equal to\n",
      "True\n",
      "False\n",
      "True\n",
      "\n",
      "< Less than\n",
      "False\n",
      "True\n",
      "False\n",
      "\n",
      "<= Less than or equal to\n",
      "== Is equal to\n",
      "False\n",
      "False\n",
      "True\n",
      "False\n",
      "\n",
      "!= Is not equal to\n",
      "True\n",
      "True\n",
      "False\n",
      "True\n"
     ]
    }
   ],
   "source": [
    "print('\\n> Greater than')\n",
    "print(5 > 4)\n",
    "print(5 > 6)\n",
    "print(5 > 5)\n",
    "\n",
    "print('\\n>= Greater than or equal to')\n",
    "print(5 >= 4)\n",
    "print(5 >= 6)\n",
    "print(5 >= 5)\n",
    "\n",
    "print('\\n< Less than')\n",
    "print(5 < 4)\n",
    "print(5 < 6)\n",
    "print(5 < 5)\n",
    "\n",
    "print('\\n<= Less than or equal to')\n",
    "print('== Is equal to')\n",
    "print(5 == 4)\n",
    "print(5 == 6)\n",
    "print(5 == 5)\n",
    "print (5 == '5')\n",
    "\n",
    "print('\\n!= Is not equal to')\n",
    "print(5 != 4)\n",
    "print(5 != 6)\n",
    "print(5 != 5)\n",
    "print(5 != '5')"
   ]
  },
  {
   "cell_type": "markdown",
   "metadata": {},
   "source": [
    "### Integers & Floats\n",
    "An integer is a positive or negative whole number. e.g. 1 42 123 -15532\n",
    "The `int()` command tries to force a variable to be an integer. When converting a decimal it truncates (throws away the numbers after the decimal)."
   ]
  },
  {
   "cell_type": "code",
   "execution_count": 42,
   "metadata": {},
   "outputs": [
    {
     "name": "stdout",
     "output_type": "stream",
     "text": [
      "2\n",
      "-12\n",
      "1\n",
      "1\n",
      "0\n",
      "-1\n"
     ]
    }
   ],
   "source": [
    "print(int(2))\n",
    "print(int(-12))\n",
    "print(int(1.6))\n",
    "print(int(1.4))\n",
    "print(int(-0.6))\n",
    "print(int(-1.2))"
   ]
  },
  {
   "cell_type": "code",
   "execution_count": 5,
   "metadata": {},
   "outputs": [
    {
     "name": "stdout",
     "output_type": "stream",
     "text": [
      "2.5\n",
      "2.0\n",
      "2.0\n",
      "-10.0\n",
      "1.0\n"
     ]
    }
   ],
   "source": [
    "print(float(2.5))\n",
    "print(float(2))\n",
    "print(float(2.0))\n",
    "print(float(-10))\n",
    "print(float(1.000000000))"
   ]
  },
  {
   "cell_type": "markdown",
   "metadata": {},
   "source": [
    "If you try to force a variable to be an integer and it can't then it throws an error."
   ]
  },
  {
   "cell_type": "code",
   "execution_count": 44,
   "metadata": {},
   "outputs": [
    {
     "ename": "ValueError",
     "evalue": "invalid literal for int() with base 10: 'cake'",
     "output_type": "error",
     "traceback": [
      "\u001b[0;31m---------------------------------------------------------------------------\u001b[0m",
      "\u001b[0;31mValueError\u001b[0m                                Traceback (most recent call last)",
      "\u001b[0;32m<ipython-input-44-3c594aad2cbf>\u001b[0m in \u001b[0;36m<module>\u001b[0;34m()\u001b[0m\n\u001b[0;32m----> 1\u001b[0;31m \u001b[0mprint\u001b[0m\u001b[0;34m(\u001b[0m\u001b[0mint\u001b[0m\u001b[0;34m(\u001b[0m\u001b[0;34m'cake'\u001b[0m\u001b[0;34m)\u001b[0m\u001b[0;34m)\u001b[0m\u001b[0;34m\u001b[0m\u001b[0m\n\u001b[0m",
      "\u001b[0;31mValueError\u001b[0m: invalid literal for int() with base 10: 'cake'"
     ]
    }
   ],
   "source": [
    "print(int('cake'))\n"
   ]
  },
  {
   "cell_type": "code",
   "execution_count": 3,
   "metadata": {},
   "outputs": [
    {
     "ename": "ValueError",
     "evalue": "could not convert string to float: 'cake'",
     "output_type": "error",
     "traceback": [
      "\u001b[0;31m---------------------------------------------------------------------------\u001b[0m",
      "\u001b[0;31mValueError\u001b[0m                                Traceback (most recent call last)",
      "\u001b[0;32m<ipython-input-3-0bf3287cba4b>\u001b[0m in \u001b[0;36m<module>\u001b[0;34m()\u001b[0m\n\u001b[0;32m----> 1\u001b[0;31m \u001b[0mprint\u001b[0m\u001b[0;34m(\u001b[0m\u001b[0mfloat\u001b[0m\u001b[0;34m(\u001b[0m\u001b[0;34m'cake'\u001b[0m\u001b[0;34m)\u001b[0m\u001b[0;34m)\u001b[0m\u001b[0;34m\u001b[0m\u001b[0m\n\u001b[0m",
      "\u001b[0;31mValueError\u001b[0m: could not convert string to float: 'cake'"
     ]
    }
   ],
   "source": [
    "print(float('cake'))"
   ]
  },
  {
   "cell_type": "code",
   "execution_count": 4,
   "metadata": {},
   "outputs": [
    {
     "name": "stdout",
     "output_type": "stream",
     "text": [
      "cake\n",
      "1\n",
      "2.9\n"
     ]
    }
   ],
   "source": [
    "print(str('cake'))\n",
    "print(str(1))\n",
    "print(str(2.90))"
   ]
  },
  {
   "cell_type": "markdown",
   "metadata": {},
   "source": [
    "This is useful for making sure input is the type you expect it to be. First write in a number, then write in a float, finally write in a string"
   ]
  },
  {
   "cell_type": "code",
   "execution_count": 8,
   "metadata": {},
   "outputs": [
    {
     "name": "stdout",
     "output_type": "stream",
     "text": [
      "How old are you? pie\n"
     ]
    },
    {
     "ename": "ValueError",
     "evalue": "invalid literal for int() with base 10: 'pie'",
     "output_type": "error",
     "traceback": [
      "\u001b[0;31m---------------------------------------------------------------------------\u001b[0m",
      "\u001b[0;31mValueError\u001b[0m                                Traceback (most recent call last)",
      "\u001b[0;32m<ipython-input-8-79e2900e5a1a>\u001b[0m in \u001b[0;36m<module>\u001b[0;34m()\u001b[0m\n\u001b[0;32m----> 1\u001b[0;31m \u001b[0mage\u001b[0m \u001b[0;34m=\u001b[0m \u001b[0mint\u001b[0m\u001b[0;34m(\u001b[0m\u001b[0minput\u001b[0m\u001b[0;34m(\u001b[0m\u001b[0;34m'How old are you? '\u001b[0m\u001b[0;34m)\u001b[0m\u001b[0;34m)\u001b[0m\u001b[0;34m\u001b[0m\u001b[0m\n\u001b[0m\u001b[1;32m      2\u001b[0m \u001b[0mprint\u001b[0m\u001b[0;34m(\u001b[0m\u001b[0;34m'Were you born in {0} or {1}?'\u001b[0m\u001b[0;34m.\u001b[0m\u001b[0mformat\u001b[0m\u001b[0;34m(\u001b[0m\u001b[0;36m2017\u001b[0m \u001b[0;34m-\u001b[0m \u001b[0mage\u001b[0m\u001b[0;34m,\u001b[0m \u001b[0;36m2016\u001b[0m \u001b[0;34m-\u001b[0m \u001b[0mage\u001b[0m\u001b[0;34m)\u001b[0m\u001b[0;34m)\u001b[0m\u001b[0;34m\u001b[0m\u001b[0m\n",
      "\u001b[0;31mValueError\u001b[0m: invalid literal for int() with base 10: 'pie'"
     ]
    }
   ],
   "source": [
    "age = int(input('How old are you? '))\n",
    "print('Were you born in {0} or {1}?'.format(2017 - age, 2016 - age))"
   ]
  },
  {
   "cell_type": "markdown",
   "metadata": {},
   "source": [
    "We'll eventually learn how to catch errors. For now let's just let the program break when the user puts in a bad reply."
   ]
  },
  {
   "cell_type": "markdown",
   "metadata": {},
   "source": [
    "### Practice\n",
    "1. Ask the user for two integers and add them together. Make sure they aren't strings or floats\n",
    "2. Ask the user for their favorite word and the number of times they would like it repeated. Print out the word that many times. Make sure that the word is a string and the number of times is an integer."
   ]
  },
  {
   "cell_type": "code",
   "execution_count": 140,
   "metadata": {},
   "outputs": [
    {
     "name": "stdout",
     "output_type": "stream",
     "text": [
      "first integer 4\n",
      "second integer 5\n",
      "total is 9\n"
     ]
    }
   ],
   "source": [
    "first = int(input('first integer '))\n",
    "second = int(input('second integer '))\n",
    "print('total is {0}'.format(first + second))\n"
   ]
  },
  {
   "cell_type": "code",
   "execution_count": 142,
   "metadata": {},
   "outputs": [
    {
     "name": "stdout",
     "output_type": "stream",
     "text": [
      "what is your favorite word? teddy\n",
      "number of times 5\n",
      "teddyteddyteddyteddyteddy\n"
     ]
    }
   ],
   "source": [
    "fav= str(input('what is your favorite word? '))\n",
    "num=int(input('number of times '))\n",
    "print(fav*num)"
   ]
  },
  {
   "cell_type": "code",
   "execution_count": null,
   "metadata": {
    "collapsed": true
   },
   "outputs": [],
   "source": []
  },
  {
   "cell_type": "markdown",
   "metadata": {},
   "source": [
    "## If-else statements\n",
    "If-else statements check to see if something is True. If it's true then some code is run, if not then something else can happen"
   ]
  },
  {
   "cell_type": "code",
   "execution_count": 144,
   "metadata": {},
   "outputs": [
    {
     "name": "stdout",
     "output_type": "stream",
     "text": [
      "Let's drink hot chocolate\n"
     ]
    }
   ],
   "source": [
    "snow = True\n",
    "if snow:\n",
    "    print(\"Let's drink hot chocolate\")\n",
    "else:\n",
    "    print(\"Let's eat ice cream\")"
   ]
  },
  {
   "cell_type": "code",
   "execution_count": null,
   "metadata": {
    "collapsed": true
   },
   "outputs": [],
   "source": []
  },
  {
   "cell_type": "code",
   "execution_count": null,
   "metadata": {
    "collapsed": true
   },
   "outputs": [],
   "source": []
  },
  {
   "cell_type": "code",
   "execution_count": null,
   "metadata": {
    "collapsed": true
   },
   "outputs": [],
   "source": []
  },
  {
   "cell_type": "markdown",
   "metadata": {},
   "source": [
    "More examples"
   ]
  },
  {
   "cell_type": "code",
   "execution_count": 182,
   "metadata": {},
   "outputs": [
    {
     "name": "stdout",
     "output_type": "stream",
     "text": [
      "It's nice outside\n"
     ]
    }
   ],
   "source": [
    "temperature = 65\n",
    "if temperature > 75:\n",
    "    print(\"It's hot outside\")\n",
    "elif temperature > 55:\n",
    "    print(\"It's nice outside\")\n",
    "else:\n",
    "    print(\"Why is it so cold?\")"
   ]
  },
  {
   "cell_type": "code",
   "execution_count": null,
   "metadata": {
    "collapsed": true
   },
   "outputs": [],
   "source": []
  },
  {
   "cell_type": "code",
   "execution_count": null,
   "metadata": {
    "collapsed": true
   },
   "outputs": [],
   "source": []
  },
  {
   "cell_type": "markdown",
   "metadata": {},
   "source": [
    "### Practice\n",
    "1. Write a program that says whether a light is on or off based on whether switch is set to True/False.\n",
    "2. Write a program that asks you how much money you have in your pocket. Write three different messages depending on whether it's >\\$20, \\$1-20, or 0."
   ]
  },
  {
   "cell_type": "code",
   "execution_count": 187,
   "metadata": {
    "scrolled": true
   },
   "outputs": [
    {
     "name": "stdout",
     "output_type": "stream",
     "text": [
      "Light is on\n"
     ]
    }
   ],
   "source": [
    "light = True\n",
    "if True:\n",
    "    print('Light is on')\n",
    "\n",
    "else:\n",
    "    print('Light if off')"
   ]
  },
  {
   "cell_type": "code",
   "execution_count": 185,
   "metadata": {},
   "outputs": [
    {
     "name": "stdout",
     "output_type": "stream",
     "text": [
      "how much money do you have4\n",
      "can you buy me lunch\n"
     ]
    }
   ],
   "source": [
    "money = int(input('how much money do you have'))\n",
    "if money>20:\n",
    "    print('wow, you are rich, can you buy me dinner')\n",
    "elif money <= 0:\n",
    "    print('dang, make some money')\n",
    "else:\n",
    "        print('can you buy me lunch')"
   ]
  },
  {
   "cell_type": "markdown",
   "metadata": {
    "collapsed": true
   },
   "source": [
    "## Loops\n",
    "A while loop is a block of code that runs over and over and over until its condition is false. A loop that never ends is called an __infinite loop__. To break out of an infinite loop press the stop button at the top."
   ]
  },
  {
   "cell_type": "code",
   "execution_count": null,
   "metadata": {},
   "outputs": [],
   "source": [
    "while True:\n",
    "    print('lo')"
   ]
  },
  {
   "cell_type": "code",
   "execution_count": null,
   "metadata": {
    "collapsed": true
   },
   "outputs": [],
   "source": [
    "while False:\n",
    "    print('I never run T_T')"
   ]
  },
  {
   "cell_type": "code",
   "execution_count": null,
   "metadata": {
    "collapsed": true
   },
   "outputs": [],
   "source": []
  },
  {
   "cell_type": "markdown",
   "metadata": {},
   "source": [
    "Step through the loop one line at a time."
   ]
  },
  {
   "cell_type": "code",
   "execution_count": null,
   "metadata": {
    "collapsed": true
   },
   "outputs": [],
   "source": [
    "i = 0\n",
    "while i < 3:\n",
    "    print('I like the number {0}'.format(i))\n",
    "    i = i + 1"
   ]
  },
  {
   "cell_type": "markdown",
   "metadata": {},
   "source": [
    "## Practice\n",
    "1. Print out all of the numbers from 1 to 100.\n",
    "2. Print out all of the numbers from 1 to a number you input. (what happens if you input a word or a negative number)."
   ]
  },
  {
   "cell_type": "code",
   "execution_count": null,
   "metadata": {
    "collapsed": true
   },
   "outputs": [],
   "source": []
  },
  {
   "cell_type": "code",
   "execution_count": null,
   "metadata": {
    "collapsed": true
   },
   "outputs": [],
   "source": []
  },
  {
   "cell_type": "markdown",
   "metadata": {},
   "source": [
    "## Break\n",
    "`break` is a special word in Python. When Python sees the word break, it immediately exits the loop it's currently in."
   ]
  },
  {
   "cell_type": "code",
   "execution_count": 9,
   "metadata": {},
   "outputs": [
    {
     "name": "stdout",
     "output_type": "stream",
     "text": [
      "1\n"
     ]
    }
   ],
   "source": [
    "i = 0\n",
    "while i < 10:\n",
    "    i = i + 1\n",
    "    break\n",
    "print(i)"
   ]
  },
  {
   "cell_type": "code",
   "execution_count": 10,
   "metadata": {},
   "outputs": [
    {
     "name": "stdout",
     "output_type": "stream",
     "text": [
      "1\n",
      "2\n",
      "3\n",
      "Oh no, you broke it\n",
      "Out of the loop\n"
     ]
    }
   ],
   "source": [
    "i = 0\n",
    "while True:\n",
    "    i = i + 1\n",
    "    if i == 4:\n",
    "        print('Oh no, you broke it')\n",
    "        break\n",
    "    print(i)\n",
    "print('Out of the loop')"
   ]
  },
  {
   "cell_type": "code",
   "execution_count": 12,
   "metadata": {},
   "outputs": [
    {
     "name": "stdout",
     "output_type": "stream",
     "text": [
      "What should I buy from the grocery store? Say q to exit: q\n",
      "Done shopping\n"
     ]
    }
   ],
   "source": [
    "while True:\n",
    "    groceries = input('What should I buy from the grocery store? Say q to exit: ')\n",
    "    if groceries == 'q':\n",
    "        break\n",
    "    print('Putting {0} in my basket'.format(groceries))\n",
    "print('Done shopping')"
   ]
  },
  {
   "cell_type": "markdown",
   "metadata": {},
   "source": [
    "### Practice\n",
    "1. Make a program that asks for a number then doubles that number and asks again if you say y and stops the program if you say n. \n",
    "2. Make a program that asks what time it is. If it's after 11 the computer goes to sleep. If it isn't the computer asks again. "
   ]
  },
  {
   "cell_type": "code",
   "execution_count": null,
   "metadata": {
    "collapsed": true
   },
   "outputs": [],
   "source": []
  },
  {
   "cell_type": "code",
   "execution_count": null,
   "metadata": {
    "collapsed": true
   },
   "outputs": [],
   "source": []
  },
  {
   "cell_type": "markdown",
   "metadata": {},
   "source": [
    "## High-Low\n",
    "Now that we know how to import, input, and loop, we have all of the tools we need to make High-low.\n",
    "The rules of our game from above are:\n",
    "* Guess a number between 1 and 50\n",
    "* If you guess the wrong the computer will tell you if it's too high or too low\n",
    "* If you guess right the game ends and you win\n",
    "* If you can't guess right in 6 tries you lose\n",
    "\n",
    "Think about how we would write a program to do all of these things one at a time.\n",
    "1. \n",
    "2.  \n",
    "3. \n"
   ]
  },
  {
   "cell_type": "code",
   "execution_count": null,
   "metadata": {
    "collapsed": true
   },
   "outputs": [],
   "source": []
  }
 ],
 "metadata": {
  "kernelspec": {
   "display_name": "Python 3",
   "language": "python",
   "name": "python3"
  },
  "language_info": {
   "codemirror_mode": {
    "name": "ipython",
    "version": 3
   },
   "file_extension": ".py",
   "mimetype": "text/x-python",
   "name": "python",
   "nbconvert_exporter": "python",
   "pygments_lexer": "ipython3",
   "version": "3.5.4"
  }
 },
 "nbformat": 4,
 "nbformat_minor": 2
}
